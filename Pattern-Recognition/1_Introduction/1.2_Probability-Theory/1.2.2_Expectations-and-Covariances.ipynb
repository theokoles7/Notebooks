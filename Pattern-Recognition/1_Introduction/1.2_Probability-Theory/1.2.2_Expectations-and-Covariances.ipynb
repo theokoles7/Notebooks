{
 "cells": [
  {
   "cell_type": "markdown",
   "metadata": {},
   "source": [
    "# §1.2.2: Expectations and Covariances\n",
    "[< §1.2: Probability Theory](./README.md)"
   ]
  }
 ],
 "metadata": {
  "language_info": {
   "name": "python"
  }
 },
 "nbformat": 4,
 "nbformat_minor": 2
}
