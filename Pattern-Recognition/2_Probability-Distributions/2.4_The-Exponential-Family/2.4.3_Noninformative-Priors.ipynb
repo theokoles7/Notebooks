{
 "cells": [
  {
   "cell_type": "markdown",
   "metadata": {},
   "source": [
    "# §2.4.3: Non-informative Priors\n",
    "[< §2.4: The Exponential Family](./README.md)"
   ]
  }
 ],
 "metadata": {
  "language_info": {
   "name": "python"
  }
 },
 "nbformat": 4,
 "nbformat_minor": 2
}
