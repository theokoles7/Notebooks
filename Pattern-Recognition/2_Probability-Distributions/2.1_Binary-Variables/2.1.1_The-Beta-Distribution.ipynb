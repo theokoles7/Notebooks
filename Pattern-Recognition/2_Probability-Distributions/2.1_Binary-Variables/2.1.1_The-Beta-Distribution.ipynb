{
 "cells": [
  {
   "cell_type": "markdown",
   "metadata": {},
   "source": [
    "# §2.1.1: The Beta Distribution\n",
    "[< §2.1: Binary Variables](./README.md)"
   ]
  }
 ],
 "metadata": {
  "language_info": {
   "name": "python"
  }
 },
 "nbformat": 4,
 "nbformat_minor": 2
}
