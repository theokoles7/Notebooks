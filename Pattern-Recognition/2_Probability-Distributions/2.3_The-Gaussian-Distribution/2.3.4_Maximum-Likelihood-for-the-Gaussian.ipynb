{
 "cells": [
  {
   "cell_type": "markdown",
   "metadata": {},
   "source": [
    "# §2.3.4: Maximum Likelihood for the Gaussian\n",
    "[< §2.3: The Gaussian Distribution](./README.md)"
   ]
  }
 ],
 "metadata": {
  "language_info": {
   "name": "python"
  }
 },
 "nbformat": 4,
 "nbformat_minor": 2
}
