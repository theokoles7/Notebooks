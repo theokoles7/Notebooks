{
 "cells": [
  {
   "cell_type": "markdown",
   "metadata": {},
   "source": [
    "# § 14.1: Rod Cutting\n",
    "\n",
    "The *rod-cutting* problem is as follows:\n",
    "\n",
    "> Given a rod of length $n$ inches and a table of prices $p_i$ for $i = 1, 2, \\dots, n$, determine the maximum revenue $r_n$ obtainable by cutting up the rod and selling the pieces. If the price $p_n$ for a rod of length $n$ is large enough, an optimal solution might require no cutting at all."
   ]
  },
  {
   "cell_type": "markdown",
   "metadata": {},
   "source": [
    "## Recursive Top-Down Implementation\n",
    "\n",
    "The following `cut_rod` procedure implements the computation implicit in this equation: $r_n =  max\\{p_i + r_{n-i}: 1 \\le i \\le n\\}$, in a top-down, recursive manner."
   ]
  },
  {
   "cell_type": "code",
   "execution_count": 51,
   "metadata": {},
   "outputs": [],
   "source": [
    "from sys    import maxsize\n",
    "\n",
    "def cut_rod(\n",
    "    p:  list,\n",
    "    n:  int\n",
    ") -> int:\n",
    "    \"\"\"# Top-Down Recursive Cut-Rod.\n",
    "\n",
    "    ## Args:\n",
    "        * p (list): List of prices, where the index + 1 corresponds to the length of the rod (i.e., p[4] is the price of a rod of length 5).\n",
    "        * n (int):  Lenghth of initial rod.\n",
    "\n",
    "    ## Returns:\n",
    "        * int:  Maximum revenue possible for rod of length n.\n",
    "    \"\"\"\n",
    "    # If the rod is at length 0, return 0.\n",
    "    if n == 0: return 0\n",
    "\n",
    "    # Otherwise, initialize q, which will maintain the max between the current \n",
    "    # rod length price and the price of rods of lesser lengths.\n",
    "    q:  int =   -maxsize\n",
    "\n",
    "    # For any possible length of the given rod...\n",
    "    for l in range(1, n + 1):\n",
    "\n",
    "        # Redefine q as the value stated above.\n",
    "        q = max(q, p[l - 1] + cut_rod(p, n - l))\n",
    "\n",
    "    # Return the maximum found.\n",
    "    return q"
   ]
  },
  {
   "cell_type": "markdown",
   "metadata": {},
   "source": [
    "To see an example, we'll run the procedure on a rod of length 4, $n = 4$, and $p$ is:\n",
    "\n",
    "| $length i$    | 1 | 2 | 3 | 4 | 5  | 6  | 7  | 8  | 9  | 10 |\n",
    "|---------------|---|---|---|---|----|----|----|----|----|----|\n",
    "| $price p_i$   | 1 | 5 | 8 | 9 | 10 | 17 | 17 | 20 | 24 | 30 |"
   ]
  },
  {
   "cell_type": "code",
   "execution_count": 52,
   "metadata": {},
   "outputs": [
    {
     "name": "stdout",
     "output_type": "stream",
     "text": [
      "Maximum revenue for rod of length 4: 10\n",
      "Total time: 0:00:00.000349\n"
     ]
    }
   ],
   "source": [
    "from datetime   import datetime\n",
    "\n",
    "# Record starting time\n",
    "start:  datetime =  datetime.now()\n",
    "\n",
    "# Run procedure\n",
    "print(f\"Maximum revenue for rod of length 4: {cut_rod(p = [1, 5, 8, 9, 10, 17, 17, 20, 24, 30], n = 4)}\")\n",
    "\n",
    "# Print total time\n",
    "print(f\"Total time: {datetime.now() - start}\")"
   ]
  },
  {
   "cell_type": "markdown",
   "metadata": {},
   "source": [
    "## Using Dynamic Programming for Optimal Rod Cutting\n",
    "\n",
    "Now, let's see how to use duynamic programming to convert `cut_rod` into an efficient algorithm. The first approach is top-down with memoization. In this case, we're writing the procedure in the same recursive manner, but modified to save the result of each subproblem."
   ]
  },
  {
   "cell_type": "code",
   "execution_count": 53,
   "metadata": {},
   "outputs": [],
   "source": [
    "from sys    import maxsize\n",
    "\n",
    "def memoized_cut_rod(\n",
    "    p:  list,\n",
    "    n:  int\n",
    ") -> int:\n",
    "    \"\"\"# Top-Down Recursive Cut Rod with Memoization.\n",
    "\n",
    "    ## Args:\n",
    "        * p (list): List of prices, where the index + 1 corresponds to the length of the rod (i.e., p[4] is the price of a rod of length 5).\n",
    "        * n (int):  Lenghth of initial rod.\n",
    "\n",
    "    ## Returns:\n",
    "        * int:  Maximum revenue possible for rod of length n.\n",
    "    \"\"\"\n",
    "    # Initiatlize memoization table.\n",
    "    r:  list =  [-maxsize]*n\n",
    "\n",
    "    # Initiate & return optimal revenue from\n",
    "    return memoized_cut_rod_aux(p, n, r)\n",
    "\n",
    "def memoized_cut_rod_aux(\n",
    "        p:  list,\n",
    "        n:  int,\n",
    "        r:  list\n",
    ") -> int:\n",
    "    \"\"\"# Top-Down Recursive Cut Rod with Memoization Helper.\n",
    "\n",
    "    ## Args:\n",
    "        * p (list): List of prices, where the index + 1 corresponds to the length of the rod (i.e., p[4] is the price of a rod of length 5).\n",
    "        * n (int):  Lenghth of initial rod.\n",
    "        * r (list): List of revenue values, where the index + 1 corresponds to the length of the rod (i.e., p[4] is the revenue of a rod of length 5).\n",
    "\n",
    "    ## Returns:\n",
    "        * int:  Maximum revenue possible for rod of length n.\n",
    "    \"\"\"\n",
    "    # If r[n] has already been computed, return the revenue\n",
    "    if r[n] >= 0:   return r[n]\n",
    "\n",
    "    # Otherwise, if n is zero, return zero\n",
    "    if n == 0:      return 0\n",
    "\n",
    "    # Otherwise, initialize q, which will maintain the max between the current \n",
    "    # rod length price and the price of rods of lesser lengths.\n",
    "    q:  int =   -maxsize\n",
    "\n",
    "    # For every possible length of the rod given\n",
    "    for l in range (1, n + 1):\n",
    "\n",
    "        # Redefine q as the value stated above.\n",
    "        q = max(q, p[l - 1] + memoized_cut_rod_aux(p, n - l, r))\n",
    "\n",
    "    # Record the outcome for the given length\n",
    "    r[n] = q\n",
    "\n",
    "    # Return q\n",
    "    return q"
   ]
  },
  {
   "cell_type": "code",
   "execution_count": 54,
   "metadata": {},
   "outputs": [
    {
     "ename": "IndexError",
     "evalue": "list index out of range",
     "output_type": "error",
     "traceback": [
      "\u001b[0;31m---------------------------------------------------------------------------\u001b[0m",
      "\u001b[0;31mIndexError\u001b[0m                                Traceback (most recent call last)",
      "Cell \u001b[0;32mIn[54], line 7\u001b[0m\n\u001b[1;32m      4\u001b[0m start:  datetime \u001b[38;5;241m=\u001b[39m  datetime\u001b[38;5;241m.\u001b[39mnow()\n\u001b[1;32m      6\u001b[0m \u001b[38;5;66;03m# Run procedure\u001b[39;00m\n\u001b[0;32m----> 7\u001b[0m \u001b[38;5;28mprint\u001b[39m(\u001b[38;5;124mf\u001b[39m\u001b[38;5;124m\"\u001b[39m\u001b[38;5;124mMaximum revenue for rod of length 4: \u001b[39m\u001b[38;5;132;01m{\u001b[39;00m\u001b[43mmemoized_cut_rod\u001b[49m\u001b[43m(\u001b[49m\u001b[43mp\u001b[49m\u001b[38;5;250;43m \u001b[39;49m\u001b[38;5;241;43m=\u001b[39;49m\u001b[38;5;250;43m \u001b[39;49m\u001b[43m[\u001b[49m\u001b[38;5;241;43m1\u001b[39;49m\u001b[43m,\u001b[49m\u001b[38;5;250;43m \u001b[39;49m\u001b[38;5;241;43m5\u001b[39;49m\u001b[43m,\u001b[49m\u001b[38;5;250;43m \u001b[39;49m\u001b[38;5;241;43m8\u001b[39;49m\u001b[43m,\u001b[49m\u001b[38;5;250;43m \u001b[39;49m\u001b[38;5;241;43m9\u001b[39;49m\u001b[43m,\u001b[49m\u001b[38;5;250;43m \u001b[39;49m\u001b[38;5;241;43m10\u001b[39;49m\u001b[43m,\u001b[49m\u001b[38;5;250;43m \u001b[39;49m\u001b[38;5;241;43m17\u001b[39;49m\u001b[43m,\u001b[49m\u001b[38;5;250;43m \u001b[39;49m\u001b[38;5;241;43m17\u001b[39;49m\u001b[43m,\u001b[49m\u001b[38;5;250;43m \u001b[39;49m\u001b[38;5;241;43m20\u001b[39;49m\u001b[43m,\u001b[49m\u001b[38;5;250;43m \u001b[39;49m\u001b[38;5;241;43m24\u001b[39;49m\u001b[43m,\u001b[49m\u001b[38;5;250;43m \u001b[39;49m\u001b[38;5;241;43m30\u001b[39;49m\u001b[43m]\u001b[49m\u001b[43m,\u001b[49m\u001b[38;5;250;43m \u001b[39;49m\u001b[43mn\u001b[49m\u001b[38;5;250;43m \u001b[39;49m\u001b[38;5;241;43m=\u001b[39;49m\u001b[38;5;250;43m \u001b[39;49m\u001b[38;5;241;43m4\u001b[39;49m\u001b[43m)\u001b[49m\u001b[38;5;132;01m}\u001b[39;00m\u001b[38;5;124m\"\u001b[39m)\n\u001b[1;32m      9\u001b[0m \u001b[38;5;66;03m# Print total time\u001b[39;00m\n\u001b[1;32m     10\u001b[0m \u001b[38;5;28mprint\u001b[39m(\u001b[38;5;124mf\u001b[39m\u001b[38;5;124m\"\u001b[39m\u001b[38;5;124mTotal time: \u001b[39m\u001b[38;5;132;01m{\u001b[39;00mdatetime\u001b[38;5;241m.\u001b[39mnow()\u001b[38;5;250m \u001b[39m\u001b[38;5;241m-\u001b[39m\u001b[38;5;250m \u001b[39mstart\u001b[38;5;132;01m}\u001b[39;00m\u001b[38;5;124m\"\u001b[39m)\n",
      "Cell \u001b[0;32mIn[53], line 20\u001b[0m, in \u001b[0;36mmemoized_cut_rod\u001b[0;34m(p, n)\u001b[0m\n\u001b[1;32m     17\u001b[0m r:  \u001b[38;5;28mlist\u001b[39m \u001b[38;5;241m=\u001b[39m  [\u001b[38;5;241m-\u001b[39mmaxsize]\u001b[38;5;241m*\u001b[39mn\n\u001b[1;32m     19\u001b[0m \u001b[38;5;66;03m# Initiate & return optimal revenue from\u001b[39;00m\n\u001b[0;32m---> 20\u001b[0m \u001b[38;5;28;01mreturn\u001b[39;00m \u001b[43mmemoized_cut_rod_aux\u001b[49m\u001b[43m(\u001b[49m\u001b[43mp\u001b[49m\u001b[43m,\u001b[49m\u001b[43m \u001b[49m\u001b[43mn\u001b[49m\u001b[43m,\u001b[49m\u001b[43m \u001b[49m\u001b[43mr\u001b[49m\u001b[43m)\u001b[49m\n",
      "Cell \u001b[0;32mIn[53], line 38\u001b[0m, in \u001b[0;36mmemoized_cut_rod_aux\u001b[0;34m(p, n, r)\u001b[0m\n\u001b[1;32m     27\u001b[0m \u001b[38;5;250m\u001b[39m\u001b[38;5;124;03m\"\"\"# Top-Down Recursive Cut Rod with Memoization Helper.\u001b[39;00m\n\u001b[1;32m     28\u001b[0m \n\u001b[1;32m     29\u001b[0m \u001b[38;5;124;03m## Args:\u001b[39;00m\n\u001b[0;32m   (...)\u001b[0m\n\u001b[1;32m     35\u001b[0m \u001b[38;5;124;03m    * int:  Maximum revenue possible for rod of length n.\u001b[39;00m\n\u001b[1;32m     36\u001b[0m \u001b[38;5;124;03m\"\"\"\u001b[39;00m\n\u001b[1;32m     37\u001b[0m \u001b[38;5;66;03m# If r[n] has already been computed, return the revenue\u001b[39;00m\n\u001b[0;32m---> 38\u001b[0m \u001b[38;5;28;01mif\u001b[39;00m \u001b[43mr\u001b[49m\u001b[43m[\u001b[49m\u001b[43mn\u001b[49m\u001b[43m]\u001b[49m \u001b[38;5;241m>\u001b[39m\u001b[38;5;241m=\u001b[39m \u001b[38;5;241m0\u001b[39m:   \u001b[38;5;28;01mreturn\u001b[39;00m r[n]\n\u001b[1;32m     40\u001b[0m \u001b[38;5;66;03m# Otherwise, if n is zero, return zero\u001b[39;00m\n\u001b[1;32m     41\u001b[0m \u001b[38;5;28;01mif\u001b[39;00m n \u001b[38;5;241m==\u001b[39m \u001b[38;5;241m0\u001b[39m:      \u001b[38;5;28;01mreturn\u001b[39;00m \u001b[38;5;241m0\u001b[39m\n",
      "\u001b[0;31mIndexError\u001b[0m: list index out of range"
     ]
    }
   ],
   "source": [
    "from datetime   import datetime\n",
    "\n",
    "# Record starting time\n",
    "start:  datetime =  datetime.now()\n",
    "\n",
    "# Run procedure\n",
    "print(f\"Maximum revenue for rod of length 4: {memoized_cut_rod(p = [1, 5, 8, 9, 10, 17, 17, 20, 24, 30], n = 4)}\")\n",
    "\n",
    "# Print total time\n",
    "print(f\"Total time: {datetime.now() - start}\")"
   ]
  },
  {
   "cell_type": "code",
   "execution_count": null,
   "metadata": {},
   "outputs": [],
   "source": []
  }
 ],
 "metadata": {
  "kernelspec": {
   "display_name": "base",
   "language": "python",
   "name": "python3"
  },
  "language_info": {
   "codemirror_mode": {
    "name": "ipython",
    "version": 3
   },
   "file_extension": ".py",
   "mimetype": "text/x-python",
   "name": "python",
   "nbconvert_exporter": "python",
   "pygments_lexer": "ipython3",
   "version": "3.12.2"
  }
 },
 "nbformat": 4,
 "nbformat_minor": 2
}
