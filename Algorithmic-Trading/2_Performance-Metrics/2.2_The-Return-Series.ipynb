{
 "cells": [
  {
   "cell_type": "markdown",
   "metadata": {},
   "source": [
    "# §2.2: The Return Series\n",
    "[< 2. Performance Metrics](./toc.md)\n",
    "\n",
    "The ***return series*** is a series of price changes on an asset, portfolio, or equity curve. The series may refer to any one of the following *types of returns*:\n",
    "* [Percentage Returns](#§221-percentage-returns)\n",
    "* [Logarithmic Returns](#§222-log-returns)\n",
    "* Dollar Returns"
   ]
  },
  {
   "cell_type": "markdown",
   "metadata": {},
   "source": [
    "## §2.2.1: Percentage Returns\n",
    "\n",
    "In the simplest of scenarios, the return on an stock series $y_t$ can be represented as:\n",
    "\n",
    "$$r_t = \\frac{y_t - y_{t - 1}}{y_{t - 1}} = \\frac{y_t}{y_{t - 1}} - 1$$\n",
    "\n",
    "Which when multiplied by 100, yields the percentage return.\n",
    "\n",
    "Percentage returns hold the following relationship with the price series $y_t$:\n",
    "\n",
    "$$y_t = y_0 \\cdot \\Pi_{j = 1}^t (1 + r_j)$$\n",
    "\n",
    "Which simply implies that the price $y_t$ is the product of all intermediate return from time $0, \\dots, t$.\n",
    "\n",
    "### Example:"
   ]
  },
  {
   "cell_type": "code",
   "execution_count": 3,
   "metadata": {},
   "outputs": [
    {
     "name": "stdout",
     "output_type": "stream",
     "text": [
      "['100.0%', '-25.0%', '86.67%', '-21.43%']\n"
     ]
    }
   ],
   "source": [
    "\"\"\"Calculate Percentage Return Series.\"\"\"\n",
    "\n",
    "from typing import List\n",
    "\n",
    "def calculate_percentage_return(\n",
    "    prices: List[float]\n",
    ") -> List[float]:\n",
    "    \"\"\"# Calculate the percentage return of the given series of prices.\n",
    "    \n",
    "    NOTE: r_0 will always be undefined.\n",
    "\n",
    "    ## Args:\n",
    "        * prices    (List[float]):  Price series.\n",
    "\n",
    "    ## Returns:\n",
    "        * List[float]:  Percentage return series of prices.\n",
    "    \"\"\"\n",
    "    return [(prices[p] / prices[p - 1]) - 1 for p in range(1, len(prices))]\n",
    "\n",
    "# Define a series of prices\n",
    "prices: List[float] =   [0.50, 1.00, 0.75, 1.40, 1.10]\n",
    "\n",
    "# Demonstrate percentage return series calculation\n",
    "print([f\"{round(r * 100, 2)}%\" for r in calculate_percentage_return(prices = prices)])"
   ]
  },
  {
   "cell_type": "markdown",
   "metadata": {},
   "source": [
    "## §2.2.2: Log Returns\n",
    "\n",
    "Log returns, which are commonly substituted for percentage returns because of their unique mathematical properties, can be represented as:\n",
    "\n",
    "$$r_t = \\ln(\\frac{y_t}{y_{t - 1}}) = \\ln y_t - \\ln y_{t - 1}$$\n",
    "\n",
    "Which holds the following relationship with the price series:\n",
    "\n",
    "$$y_t = y_0 \\cdot \\exp(\\Sigma_{j = 1}^t r_j) = y_0 \\cdot \\Pi_{j = 1}^t e^{r_j}$$\n",
    "\n",
    "### Example:"
   ]
  },
  {
   "cell_type": "code",
   "execution_count": 5,
   "metadata": {},
   "outputs": [
    {
     "name": "stdout",
     "output_type": "stream",
     "text": [
      "['100.0%', '-41.5%', '90.05%', '-34.79%']\n"
     ]
    }
   ],
   "source": [
    "\"\"\"Calculate Log Return Series.\"\"\"\n",
    "\n",
    "from math   import log2\n",
    "from typing import List\n",
    "\n",
    "def calculate_log_return(\n",
    "    prices: List[float]\n",
    ") -> List[float]:\n",
    "    \"\"\"# Calculate the log return of the given series of prices.\n",
    "\n",
    "    ## Args:\n",
    "        * prices    (List[float]):  Price series\n",
    "\n",
    "    ## Returns:\n",
    "        * List[float]:  Log return series of prices.\n",
    "    \"\"\"\n",
    "    return [(log2(prices[p] / prices[p - 1])) for p in range(1, len(prices))]\n",
    "\n",
    "# Define a series of prices\n",
    "prices: List[float] =   [0.50, 1.00, 0.75, 1.40, 1.10]\n",
    "\n",
    "# Demonstrate logarithmic return series calculation\n",
    "print([f\"{round(r, 2)}%\" for r in calculate_log_return(prices = prices)])"
   ]
  },
  {
   "cell_type": "markdown",
   "metadata": {},
   "source": [
    "## §2.2.3: Properties of Return Series"
   ]
  },
  {
   "cell_type": "markdown",
   "metadata": {},
   "source": [
    "### §2.2.3.1: Symmetry and Interpretability"
   ]
  },
  {
   "cell_type": "markdown",
   "metadata": {},
   "source": [
    "### §2.2.3.2: Local Linearity"
   ]
  },
  {
   "cell_type": "markdown",
   "metadata": {},
   "source": [
    "### §2.2.3.3: Tail Symmetry and Normality"
   ]
  }
 ],
 "metadata": {
  "kernelspec": {
   "display_name": "base",
   "language": "python",
   "name": "python3"
  },
  "language_info": {
   "codemirror_mode": {
    "name": "ipython",
    "version": 3
   },
   "file_extension": ".py",
   "mimetype": "text/x-python",
   "name": "python",
   "nbconvert_exporter": "python",
   "pygments_lexer": "ipython3",
   "version": "3.11.4"
  }
 },
 "nbformat": 4,
 "nbformat_minor": 2
}
